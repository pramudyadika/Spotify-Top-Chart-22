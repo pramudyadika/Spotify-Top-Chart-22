{
  "nbformat": 4,
  "nbformat_minor": 0,
  "metadata": {
    "colab": {
      "provenance": [],
      "authorship_tag": "ABX9TyNyRWP67TmKQlgNxOjPcxev",
      "include_colab_link": true
    },
    "kernelspec": {
      "name": "python3",
      "display_name": "Python 3"
    },
    "language_info": {
      "name": "python"
    }
  },
  "cells": [
    {
      "cell_type": "markdown",
      "metadata": {
        "id": "view-in-github",
        "colab_type": "text"
      },
      "source": [
        "<a href=\"https://colab.research.google.com/github/pramudyadika/Spotify-Top-Chart-22/blob/main/460558_Pramudya_KH_Spotify_Top_Chart_2021_2022.ipynb\" target=\"_parent\"><img src=\"https://colab.research.google.com/assets/colab-badge.svg\" alt=\"Open In Colab\"/></a>"
      ]
    },
    {
      "cell_type": "markdown",
      "source": [
        "# Spotify Top Chart 2022\n"
      ],
      "metadata": {
        "id": "JEJ9GzLBajH9"
      }
    },
    {
      "cell_type": "markdown",
      "source": [
        "This dataset providing list of all songs, that have appeared in a weekly Spotify top chart.\n",
        "Data have been collected from https://charts.spotify.com/charts/overview/global.\n",
        "Dataset provides name of the song, artist, URI(Uniform Resource Identifier), peak rank in the top charts that this song got, number of weeks on chart and main features of the song such as danceability, energy etc."
      ],
      "metadata": {
        "id": "Hf5WPk6FdQ8x"
      }
    },
    {
      "cell_type": "markdown",
      "source": [
        "\n",
        "The reason why I choose this datasets is because i like to hear music almost everyday, and its become my hobby. And because of that, I want to analyze what is the current trending song among user in Spotify(Music Platform)."
      ],
      "metadata": {
        "id": "gKppB35deo6G"
      }
    },
    {
      "cell_type": "markdown",
      "source": [
        "### Variable Description"
      ],
      "metadata": {
        "id": "pozQtpyp7261"
      }
    },
    {
      "cell_type": "markdown",
      "source": [
        "- uri: unique identifier of the song, you can paste the uri inside spotify search box and the song will be displayed\n",
        "\n",
        "- artist_name: Name of the artist, if the song features another artist, it will be addend in here\n",
        "\n",
        "- track_names: Name of the track. Featured artist are also included in this field.\n",
        "\n",
        "- peak_rank Peak rank in the charts.\n",
        "\n",
        "- weeks_on_chart\n",
        "\n",
        "- danceability: Danceability describes how suitable a track is for dancing based on a combination of musical elements including tempo, rhythm stability, beat strength, and overall regularity. A value of 0.0 is least danceable and 1.0 is most danceable.\n",
        "\n",
        "- energy: Perceptual measure of intensity and activity. Typically, energetic tracks feel fast, loud, and noisy.\n",
        "key: The key the track is in. Integers map to pitches using standard Pitch Class notation. E.g. 0 = C, 1 = C♯/D♭, 2 = D, and so on. If no key was detected, the value is -1.\n",
        "\n",
        "- loudness: The overall loudness of a track in decibels (dB).\n",
        "\n",
        "- mode: Mode indicates the modality (major -1- or minor -0-) of a track.\n",
        "\n",
        "- speechiness: Speechiness detects the presence of spoken words in a track. Values above 0.66 describe tracks that are probably made entirely of spoken words. Values between 0.33 and 0.66 describe tracks that may contain both music and speech, either in sections or layered, including such cases as rap music.\n",
        "\n",
        "- acousticness: A confidence measure from 0.0 to 1.0 of whether the track is acoustic. 1.0 represents high confidence the track is acoustic.\n",
        "\n",
        "- instrumentalness: Predicts whether a track contains no vocals. \"Ooh\" and \"aah\" sounds are treated as instrumental in this context. Values above 0.5 are intended to represent instrumental tracks, but confidence is higher as the value approaches 1.0\n",
        "\n",
        "- liveness: Detects the presence of an audience in the recording. Higher liveness values represent an increased probability that the track was performed live. A value above 0.8 provides strong likelihood that the track is live.\n",
        "\n",
        "- tempo: The overall estimated tempo of a track in beats per minute (BPM). In musical terminology, tempo is the speed or pace of a given piece and derives directly from the average beat duration.\n",
        "\n",
        "- time_signature: An estimated time signature. The time signature (meter) is a notational convention to specify how many beats are in each bar (or measure). The time signature ranges from 3 to 7 indicating time signatures of \"3/4\", to \"7/4\".\n",
        "\n",
        "- duration_ms: The duration of the track in milliseconds."
      ],
      "metadata": {
        "id": "LHBXX6qW77kd"
      }
    },
    {
      "cell_type": "markdown",
      "source": [
        "### Installing library"
      ],
      "metadata": {
        "id": "xIkuanvZax0g"
      }
    },
    {
      "cell_type": "code",
      "source": [
        "!wget https://raw.githubusercontent.com/JoseCaliz/dotfiles/main/css/custom_css.css 2>/dev/null 1>&2\n",
        "!pip install feature_engine 2>/dev/null 1>&2\n",
        "!pip install dython 2>/dev/null 1>&2\n",
        "\n",
        "# ##installing different version because some features isn't supported by current version\n",
        "# !python -m pip uninstall matplotlib\n",
        "# !pip install matplotlib==3.1.3"
      ],
      "metadata": {
        "id": "6c7yin6OBrId"
      },
      "execution_count": null,
      "outputs": []
    },
    {
      "cell_type": "markdown",
      "source": [
        "### Import library"
      ],
      "metadata": {
        "id": "XuL8VbWma7vk"
      }
    },
    {
      "cell_type": "code",
      "source": [
        "import pandas as pd\n",
        "import seaborn as sns\n",
        "import matplotlib.cm as cmap\n",
        "import matplotlib.colors as mpl_colors\n",
        "import matplotlib.pyplot as plt\n",
        "import matplotlib.ticker as ticker\n",
        "import matplotlib as mpl\n",
        "import numpy as np\n",
        "import math\n",
        "from google.colab import drive\n",
        "from scipy import stats"
      ],
      "metadata": {
        "id": "tD3qC81wCCgW"
      },
      "execution_count": null,
      "outputs": []
    },
    {
      "cell_type": "markdown",
      "source": [
        "### Import Datasets"
      ],
      "metadata": {
        "id": "dap7DCsDbDqe"
      }
    },
    {
      "cell_type": "code",
      "source": [
        "drive.mount('/content/drive', force_remount = True)"
      ],
      "metadata": {
        "colab": {
          "base_uri": "https://localhost:8080/"
        },
        "id": "I48J9ixXBrQp",
        "outputId": "26e120e2-2001-4e6b-ca68-365448eeffd9"
      },
      "execution_count": null,
      "outputs": [
        {
          "output_type": "stream",
          "name": "stdout",
          "text": [
            "Mounted at /content/drive\n"
          ]
        }
      ]
    },
    {
      "cell_type": "code",
      "source": [
        "data21 = pd.read_csv('drive/MyDrive/RekDat/spotify_top50_2021.csv')\n",
        "data22 = pd.read_csv('drive/MyDrive/RekDat/spotify_top_charts_22.csv')"
      ],
      "metadata": {
        "id": "5DK77brHy0Gn"
      },
      "execution_count": null,
      "outputs": []
    },
    {
      "cell_type": "markdown",
      "source": [
        "# DATA INTEGRATION\n"
      ],
      "metadata": {
        "id": "InNwh8DbkHfc"
      }
    },
    {
      "cell_type": "markdown",
      "source": [
        "In here, we add another data set which is spotify top 50 chart in 2021 that contain the same attributes as in spotify top chart 2022 because it's from the same author."
      ],
      "metadata": {
        "id": "H3ZEupe7kL5u"
      }
    },
    {
      "cell_type": "code",
      "source": [
        "df = pd.DataFrame(data22)\n",
        "df2 = pd.DataFrame(data21)\n",
        "df2 = df2.rename(columns ={\"artist_name\":\"artist_names\"})"
      ],
      "metadata": {
        "id": "TIOKOg2pgyAG"
      },
      "execution_count": null,
      "outputs": []
    },
    {
      "cell_type": "markdown",
      "source": [
        "Dropping the unnecessary column"
      ],
      "metadata": {
        "id": "JT0295fPj3Kq"
      }
    },
    {
      "cell_type": "code",
      "source": [
        "newdf21 = df2.drop([\"id\",\"artist_names\",\"track_name\",\"track_id\",\"popularity\", \"valence\"], axis='columns')"
      ],
      "metadata": {
        "id": "_0UzBypMiXvm"
      },
      "execution_count": null,
      "outputs": []
    },
    {
      "cell_type": "code",
      "source": [
        "newdf22 = df.drop([\"uri\",\"artist_names\",\"track_name\",\"weeks_on_chart\",\"peak_rank\"], axis='columns')"
      ],
      "metadata": {
        "id": "7MQEm9vHg85z"
      },
      "execution_count": null,
      "outputs": []
    },
    {
      "cell_type": "markdown",
      "source": [
        "Merging two data sets"
      ],
      "metadata": {
        "id": "VuXvx2ibz_0U"
      }
    },
    {
      "cell_type": "code",
      "source": [
        "newdf=pd.concat([newdf21, newdf22])\n",
        "\n",
        "newdf"
      ],
      "metadata": {
        "colab": {
          "base_uri": "https://localhost:8080/",
          "height": 423
        },
        "id": "ifqwHUB2hBJp",
        "outputId": "ecdb59a6-857e-4cbf-b9ce-a2d5cbf9b289"
      },
      "execution_count": null,
      "outputs": [
        {
          "output_type": "execute_result",
          "data": {
            "text/plain": [
              "     danceability  energy  key  loudness  mode  speechiness  acousticness  \\\n",
              "0           0.561   0.431   10    -8.810     1       0.0578       0.76800   \n",
              "1           0.593   0.503    8    -6.725     0       0.2200       0.29300   \n",
              "2           0.591   0.764    1    -5.484     1       0.0483       0.03830   \n",
              "3           0.563   0.664    9    -5.044     1       0.1540       0.33500   \n",
              "4           0.702   0.825    6    -3.787     0       0.0601       0.00883   \n",
              "..            ...     ...  ...       ...   ...          ...           ...   \n",
              "641         0.725   0.446    4    -8.958     0       0.0287       0.85000   \n",
              "642         0.578   0.431    2    -7.034     1       0.0269       0.46900   \n",
              "643         0.872   0.422    1    -7.415     0       0.3630       0.02540   \n",
              "644         0.730   0.785    9    -7.986     0       0.2430       0.10500   \n",
              "645         0.476   0.189   11   -13.777     0       0.0329       0.90400   \n",
              "\n",
              "     instrumentalness  liveness    tempo  duration_ms  time_signature  \n",
              "0            0.000014    0.1060  143.875       242013               4  \n",
              "1            0.000000    0.4050  178.781       137704               4  \n",
              "2            0.000000    0.1030  169.928       141806               4  \n",
              "3            0.000000    0.0849  166.928       178147               4  \n",
              "4            0.000000    0.0674  102.977       203064               4  \n",
              "..                ...       ...      ...          ...             ...  \n",
              "641          0.243000    0.1070   90.024       187333               4  \n",
              "642          0.000000    0.1370  116.979       226975               3  \n",
              "643          0.000000    0.1090  149.956       180666               4  \n",
              "644          0.000000    0.0445   82.037       215120               4  \n",
              "645          0.000005    0.2540  115.851       264439               4  \n",
              "\n",
              "[696 rows x 12 columns]"
            ],
            "text/html": [
              "\n",
              "  <div id=\"df-b6a67d3c-1439-41f6-ae64-cd656d530b71\">\n",
              "    <div class=\"colab-df-container\">\n",
              "      <div>\n",
              "<style scoped>\n",
              "    .dataframe tbody tr th:only-of-type {\n",
              "        vertical-align: middle;\n",
              "    }\n",
              "\n",
              "    .dataframe tbody tr th {\n",
              "        vertical-align: top;\n",
              "    }\n",
              "\n",
              "    .dataframe thead th {\n",
              "        text-align: right;\n",
              "    }\n",
              "</style>\n",
              "<table border=\"1\" class=\"dataframe\">\n",
              "  <thead>\n",
              "    <tr style=\"text-align: right;\">\n",
              "      <th></th>\n",
              "      <th>danceability</th>\n",
              "      <th>energy</th>\n",
              "      <th>key</th>\n",
              "      <th>loudness</th>\n",
              "      <th>mode</th>\n",
              "      <th>speechiness</th>\n",
              "      <th>acousticness</th>\n",
              "      <th>instrumentalness</th>\n",
              "      <th>liveness</th>\n",
              "      <th>tempo</th>\n",
              "      <th>duration_ms</th>\n",
              "      <th>time_signature</th>\n",
              "    </tr>\n",
              "  </thead>\n",
              "  <tbody>\n",
              "    <tr>\n",
              "      <th>0</th>\n",
              "      <td>0.561</td>\n",
              "      <td>0.431</td>\n",
              "      <td>10</td>\n",
              "      <td>-8.810</td>\n",
              "      <td>1</td>\n",
              "      <td>0.0578</td>\n",
              "      <td>0.76800</td>\n",
              "      <td>0.000014</td>\n",
              "      <td>0.1060</td>\n",
              "      <td>143.875</td>\n",
              "      <td>242013</td>\n",
              "      <td>4</td>\n",
              "    </tr>\n",
              "    <tr>\n",
              "      <th>1</th>\n",
              "      <td>0.593</td>\n",
              "      <td>0.503</td>\n",
              "      <td>8</td>\n",
              "      <td>-6.725</td>\n",
              "      <td>0</td>\n",
              "      <td>0.2200</td>\n",
              "      <td>0.29300</td>\n",
              "      <td>0.000000</td>\n",
              "      <td>0.4050</td>\n",
              "      <td>178.781</td>\n",
              "      <td>137704</td>\n",
              "      <td>4</td>\n",
              "    </tr>\n",
              "    <tr>\n",
              "      <th>2</th>\n",
              "      <td>0.591</td>\n",
              "      <td>0.764</td>\n",
              "      <td>1</td>\n",
              "      <td>-5.484</td>\n",
              "      <td>1</td>\n",
              "      <td>0.0483</td>\n",
              "      <td>0.03830</td>\n",
              "      <td>0.000000</td>\n",
              "      <td>0.1030</td>\n",
              "      <td>169.928</td>\n",
              "      <td>141806</td>\n",
              "      <td>4</td>\n",
              "    </tr>\n",
              "    <tr>\n",
              "      <th>3</th>\n",
              "      <td>0.563</td>\n",
              "      <td>0.664</td>\n",
              "      <td>9</td>\n",
              "      <td>-5.044</td>\n",
              "      <td>1</td>\n",
              "      <td>0.1540</td>\n",
              "      <td>0.33500</td>\n",
              "      <td>0.000000</td>\n",
              "      <td>0.0849</td>\n",
              "      <td>166.928</td>\n",
              "      <td>178147</td>\n",
              "      <td>4</td>\n",
              "    </tr>\n",
              "    <tr>\n",
              "      <th>4</th>\n",
              "      <td>0.702</td>\n",
              "      <td>0.825</td>\n",
              "      <td>6</td>\n",
              "      <td>-3.787</td>\n",
              "      <td>0</td>\n",
              "      <td>0.0601</td>\n",
              "      <td>0.00883</td>\n",
              "      <td>0.000000</td>\n",
              "      <td>0.0674</td>\n",
              "      <td>102.977</td>\n",
              "      <td>203064</td>\n",
              "      <td>4</td>\n",
              "    </tr>\n",
              "    <tr>\n",
              "      <th>...</th>\n",
              "      <td>...</td>\n",
              "      <td>...</td>\n",
              "      <td>...</td>\n",
              "      <td>...</td>\n",
              "      <td>...</td>\n",
              "      <td>...</td>\n",
              "      <td>...</td>\n",
              "      <td>...</td>\n",
              "      <td>...</td>\n",
              "      <td>...</td>\n",
              "      <td>...</td>\n",
              "      <td>...</td>\n",
              "    </tr>\n",
              "    <tr>\n",
              "      <th>641</th>\n",
              "      <td>0.725</td>\n",
              "      <td>0.446</td>\n",
              "      <td>4</td>\n",
              "      <td>-8.958</td>\n",
              "      <td>0</td>\n",
              "      <td>0.0287</td>\n",
              "      <td>0.85000</td>\n",
              "      <td>0.243000</td>\n",
              "      <td>0.1070</td>\n",
              "      <td>90.024</td>\n",
              "      <td>187333</td>\n",
              "      <td>4</td>\n",
              "    </tr>\n",
              "    <tr>\n",
              "      <th>642</th>\n",
              "      <td>0.578</td>\n",
              "      <td>0.431</td>\n",
              "      <td>2</td>\n",
              "      <td>-7.034</td>\n",
              "      <td>1</td>\n",
              "      <td>0.0269</td>\n",
              "      <td>0.46900</td>\n",
              "      <td>0.000000</td>\n",
              "      <td>0.1370</td>\n",
              "      <td>116.979</td>\n",
              "      <td>226975</td>\n",
              "      <td>3</td>\n",
              "    </tr>\n",
              "    <tr>\n",
              "      <th>643</th>\n",
              "      <td>0.872</td>\n",
              "      <td>0.422</td>\n",
              "      <td>1</td>\n",
              "      <td>-7.415</td>\n",
              "      <td>0</td>\n",
              "      <td>0.3630</td>\n",
              "      <td>0.02540</td>\n",
              "      <td>0.000000</td>\n",
              "      <td>0.1090</td>\n",
              "      <td>149.956</td>\n",
              "      <td>180666</td>\n",
              "      <td>4</td>\n",
              "    </tr>\n",
              "    <tr>\n",
              "      <th>644</th>\n",
              "      <td>0.730</td>\n",
              "      <td>0.785</td>\n",
              "      <td>9</td>\n",
              "      <td>-7.986</td>\n",
              "      <td>0</td>\n",
              "      <td>0.2430</td>\n",
              "      <td>0.10500</td>\n",
              "      <td>0.000000</td>\n",
              "      <td>0.0445</td>\n",
              "      <td>82.037</td>\n",
              "      <td>215120</td>\n",
              "      <td>4</td>\n",
              "    </tr>\n",
              "    <tr>\n",
              "      <th>645</th>\n",
              "      <td>0.476</td>\n",
              "      <td>0.189</td>\n",
              "      <td>11</td>\n",
              "      <td>-13.777</td>\n",
              "      <td>0</td>\n",
              "      <td>0.0329</td>\n",
              "      <td>0.90400</td>\n",
              "      <td>0.000005</td>\n",
              "      <td>0.2540</td>\n",
              "      <td>115.851</td>\n",
              "      <td>264439</td>\n",
              "      <td>4</td>\n",
              "    </tr>\n",
              "  </tbody>\n",
              "</table>\n",
              "<p>696 rows × 12 columns</p>\n",
              "</div>\n",
              "      <button class=\"colab-df-convert\" onclick=\"convertToInteractive('df-b6a67d3c-1439-41f6-ae64-cd656d530b71')\"\n",
              "              title=\"Convert this dataframe to an interactive table.\"\n",
              "              style=\"display:none;\">\n",
              "        \n",
              "  <svg xmlns=\"http://www.w3.org/2000/svg\" height=\"24px\"viewBox=\"0 0 24 24\"\n",
              "       width=\"24px\">\n",
              "    <path d=\"M0 0h24v24H0V0z\" fill=\"none\"/>\n",
              "    <path d=\"M18.56 5.44l.94 2.06.94-2.06 2.06-.94-2.06-.94-.94-2.06-.94 2.06-2.06.94zm-11 1L8.5 8.5l.94-2.06 2.06-.94-2.06-.94L8.5 2.5l-.94 2.06-2.06.94zm10 10l.94 2.06.94-2.06 2.06-.94-2.06-.94-.94-2.06-.94 2.06-2.06.94z\"/><path d=\"M17.41 7.96l-1.37-1.37c-.4-.4-.92-.59-1.43-.59-.52 0-1.04.2-1.43.59L10.3 9.45l-7.72 7.72c-.78.78-.78 2.05 0 2.83L4 21.41c.39.39.9.59 1.41.59.51 0 1.02-.2 1.41-.59l7.78-7.78 2.81-2.81c.8-.78.8-2.07 0-2.86zM5.41 20L4 18.59l7.72-7.72 1.47 1.35L5.41 20z\"/>\n",
              "  </svg>\n",
              "      </button>\n",
              "      \n",
              "  <style>\n",
              "    .colab-df-container {\n",
              "      display:flex;\n",
              "      flex-wrap:wrap;\n",
              "      gap: 12px;\n",
              "    }\n",
              "\n",
              "    .colab-df-convert {\n",
              "      background-color: #E8F0FE;\n",
              "      border: none;\n",
              "      border-radius: 50%;\n",
              "      cursor: pointer;\n",
              "      display: none;\n",
              "      fill: #1967D2;\n",
              "      height: 32px;\n",
              "      padding: 0 0 0 0;\n",
              "      width: 32px;\n",
              "    }\n",
              "\n",
              "    .colab-df-convert:hover {\n",
              "      background-color: #E2EBFA;\n",
              "      box-shadow: 0px 1px 2px rgba(60, 64, 67, 0.3), 0px 1px 3px 1px rgba(60, 64, 67, 0.15);\n",
              "      fill: #174EA6;\n",
              "    }\n",
              "\n",
              "    [theme=dark] .colab-df-convert {\n",
              "      background-color: #3B4455;\n",
              "      fill: #D2E3FC;\n",
              "    }\n",
              "\n",
              "    [theme=dark] .colab-df-convert:hover {\n",
              "      background-color: #434B5C;\n",
              "      box-shadow: 0px 1px 3px 1px rgba(0, 0, 0, 0.15);\n",
              "      filter: drop-shadow(0px 1px 2px rgba(0, 0, 0, 0.3));\n",
              "      fill: #FFFFFF;\n",
              "    }\n",
              "  </style>\n",
              "\n",
              "      <script>\n",
              "        const buttonEl =\n",
              "          document.querySelector('#df-b6a67d3c-1439-41f6-ae64-cd656d530b71 button.colab-df-convert');\n",
              "        buttonEl.style.display =\n",
              "          google.colab.kernel.accessAllowed ? 'block' : 'none';\n",
              "\n",
              "        async function convertToInteractive(key) {\n",
              "          const element = document.querySelector('#df-b6a67d3c-1439-41f6-ae64-cd656d530b71');\n",
              "          const dataTable =\n",
              "            await google.colab.kernel.invokeFunction('convertToInteractive',\n",
              "                                                     [key], {});\n",
              "          if (!dataTable) return;\n",
              "\n",
              "          const docLinkHtml = 'Like what you see? Visit the ' +\n",
              "            '<a target=\"_blank\" href=https://colab.research.google.com/notebooks/data_table.ipynb>data table notebook</a>'\n",
              "            + ' to learn more about interactive tables.';\n",
              "          element.innerHTML = '';\n",
              "          dataTable['output_type'] = 'display_data';\n",
              "          await google.colab.output.renderOutput(dataTable, element);\n",
              "          const docLink = document.createElement('div');\n",
              "          docLink.innerHTML = docLinkHtml;\n",
              "          element.appendChild(docLink);\n",
              "        }\n",
              "      </script>\n",
              "    </div>\n",
              "  </div>\n",
              "  "
            ]
          },
          "metadata": {},
          "execution_count": 145
        }
      ]
    },
    {
      "cell_type": "markdown",
      "source": [
        "# DATA CLEANING"
      ],
      "metadata": {
        "id": "w7vpoN2Q8797"
      }
    },
    {
      "cell_type": "markdown",
      "source": [
        "We can use the z-score to identify outliers by treating as outliers all the data points that are too far away from 0.\n",
        "It is common to use -3 and +3 as threshold. Any data point with a z-score below -3 or above +3 are treated as outliers. The reason for this common threshold is that 99.7% of the values in a standard normal distribution fall between -3 and +3.\n",
        "\n",
        "The easiest and most secure way to calculate z-scores is the stats.zscore() function of SciPy library. Let’s apply it to the data:"
      ],
      "metadata": {
        "id": "gJiyKVh38rLk"
      }
    },
    {
      "cell_type": "code",
      "source": [
        "# Calculate the z-scores\n",
        "z_scores = stats.zscore(newdf)\n",
        "z_scores"
      ],
      "metadata": {
        "colab": {
          "base_uri": "https://localhost:8080/",
          "height": 423
        },
        "id": "-YX9-Jyk7V0P",
        "outputId": "3c11888b-daa0-4e98-e504-eaf5f69f82e7"
      },
      "execution_count": null,
      "outputs": [
        {
          "output_type": "execute_result",
          "data": {
            "text/plain": [
              "     danceability    energy       key  loudness      mode  speechiness  \\\n",
              "0       -0.763512 -1.281752  1.349785 -0.960352  0.850160    -0.500630   \n",
              "1       -0.549638 -0.842780  0.799595 -0.155052 -1.176249     1.124861   \n",
              "2       -0.563005  0.748493 -1.126073  0.324265  0.850160    -0.595834   \n",
              "3       -0.750145  0.138810  1.074690  0.494208  0.850160     0.463441   \n",
              "4        0.178872  1.120400  0.249404  0.979706 -1.176249    -0.477580   \n",
              "..            ...       ...       ...       ...       ...          ...   \n",
              "641      0.332594 -1.190300 -0.300787 -1.017514 -1.176249    -0.792256   \n",
              "642     -0.649892 -1.281752 -0.850977 -0.274399  0.850160    -0.810295   \n",
              "643      1.315081 -1.336624 -1.126073 -0.421554 -1.176249     2.557938   \n",
              "644      0.366012  0.876527  1.074690 -0.642094 -1.176249     1.355356   \n",
              "645     -1.331617 -2.757186  1.624880 -2.878780 -1.176249    -0.750165   \n",
              "\n",
              "     acousticness  instrumentalness  liveness     tempo  duration_ms  \\\n",
              "0        1.967957         -0.170683 -0.529488  0.805150     0.722526   \n",
              "1        0.143773         -0.170872  1.703614  2.038672    -1.218678   \n",
              "2       -0.834374         -0.170872 -0.551894  1.725821    -1.142339   \n",
              "3        0.305069         -0.170872 -0.687075  1.619806    -0.466029   \n",
              "4       -0.947550         -0.170872 -0.817775 -0.640121    -0.002320   \n",
              "..            ...               ...       ...       ...          ...   \n",
              "641      2.282869          3.068502 -0.522020 -1.097859    -0.295076   \n",
              "642      0.819681         -0.170872 -0.297963 -0.145312     0.442667   \n",
              "643     -0.883915         -0.170872 -0.507083  1.020043    -0.419150   \n",
              "644     -0.578220         -0.170872 -0.988805 -1.380107     0.222044   \n",
              "645      2.490250         -0.170812  0.575860 -0.185174     1.139877   \n",
              "\n",
              "     time_signature  \n",
              "0          0.205674  \n",
              "1          0.205674  \n",
              "2          0.205674  \n",
              "3          0.205674  \n",
              "4          0.205674  \n",
              "..              ...  \n",
              "641        0.205674  \n",
              "642       -2.715732  \n",
              "643        0.205674  \n",
              "644        0.205674  \n",
              "645        0.205674  \n",
              "\n",
              "[696 rows x 12 columns]"
            ],
            "text/html": [
              "\n",
              "  <div id=\"df-311c41ec-cec4-4dd7-8e11-bbaf26cc04a4\">\n",
              "    <div class=\"colab-df-container\">\n",
              "      <div>\n",
              "<style scoped>\n",
              "    .dataframe tbody tr th:only-of-type {\n",
              "        vertical-align: middle;\n",
              "    }\n",
              "\n",
              "    .dataframe tbody tr th {\n",
              "        vertical-align: top;\n",
              "    }\n",
              "\n",
              "    .dataframe thead th {\n",
              "        text-align: right;\n",
              "    }\n",
              "</style>\n",
              "<table border=\"1\" class=\"dataframe\">\n",
              "  <thead>\n",
              "    <tr style=\"text-align: right;\">\n",
              "      <th></th>\n",
              "      <th>danceability</th>\n",
              "      <th>energy</th>\n",
              "      <th>key</th>\n",
              "      <th>loudness</th>\n",
              "      <th>mode</th>\n",
              "      <th>speechiness</th>\n",
              "      <th>acousticness</th>\n",
              "      <th>instrumentalness</th>\n",
              "      <th>liveness</th>\n",
              "      <th>tempo</th>\n",
              "      <th>duration_ms</th>\n",
              "      <th>time_signature</th>\n",
              "    </tr>\n",
              "  </thead>\n",
              "  <tbody>\n",
              "    <tr>\n",
              "      <th>0</th>\n",
              "      <td>-0.763512</td>\n",
              "      <td>-1.281752</td>\n",
              "      <td>1.349785</td>\n",
              "      <td>-0.960352</td>\n",
              "      <td>0.850160</td>\n",
              "      <td>-0.500630</td>\n",
              "      <td>1.967957</td>\n",
              "      <td>-0.170683</td>\n",
              "      <td>-0.529488</td>\n",
              "      <td>0.805150</td>\n",
              "      <td>0.722526</td>\n",
              "      <td>0.205674</td>\n",
              "    </tr>\n",
              "    <tr>\n",
              "      <th>1</th>\n",
              "      <td>-0.549638</td>\n",
              "      <td>-0.842780</td>\n",
              "      <td>0.799595</td>\n",
              "      <td>-0.155052</td>\n",
              "      <td>-1.176249</td>\n",
              "      <td>1.124861</td>\n",
              "      <td>0.143773</td>\n",
              "      <td>-0.170872</td>\n",
              "      <td>1.703614</td>\n",
              "      <td>2.038672</td>\n",
              "      <td>-1.218678</td>\n",
              "      <td>0.205674</td>\n",
              "    </tr>\n",
              "    <tr>\n",
              "      <th>2</th>\n",
              "      <td>-0.563005</td>\n",
              "      <td>0.748493</td>\n",
              "      <td>-1.126073</td>\n",
              "      <td>0.324265</td>\n",
              "      <td>0.850160</td>\n",
              "      <td>-0.595834</td>\n",
              "      <td>-0.834374</td>\n",
              "      <td>-0.170872</td>\n",
              "      <td>-0.551894</td>\n",
              "      <td>1.725821</td>\n",
              "      <td>-1.142339</td>\n",
              "      <td>0.205674</td>\n",
              "    </tr>\n",
              "    <tr>\n",
              "      <th>3</th>\n",
              "      <td>-0.750145</td>\n",
              "      <td>0.138810</td>\n",
              "      <td>1.074690</td>\n",
              "      <td>0.494208</td>\n",
              "      <td>0.850160</td>\n",
              "      <td>0.463441</td>\n",
              "      <td>0.305069</td>\n",
              "      <td>-0.170872</td>\n",
              "      <td>-0.687075</td>\n",
              "      <td>1.619806</td>\n",
              "      <td>-0.466029</td>\n",
              "      <td>0.205674</td>\n",
              "    </tr>\n",
              "    <tr>\n",
              "      <th>4</th>\n",
              "      <td>0.178872</td>\n",
              "      <td>1.120400</td>\n",
              "      <td>0.249404</td>\n",
              "      <td>0.979706</td>\n",
              "      <td>-1.176249</td>\n",
              "      <td>-0.477580</td>\n",
              "      <td>-0.947550</td>\n",
              "      <td>-0.170872</td>\n",
              "      <td>-0.817775</td>\n",
              "      <td>-0.640121</td>\n",
              "      <td>-0.002320</td>\n",
              "      <td>0.205674</td>\n",
              "    </tr>\n",
              "    <tr>\n",
              "      <th>...</th>\n",
              "      <td>...</td>\n",
              "      <td>...</td>\n",
              "      <td>...</td>\n",
              "      <td>...</td>\n",
              "      <td>...</td>\n",
              "      <td>...</td>\n",
              "      <td>...</td>\n",
              "      <td>...</td>\n",
              "      <td>...</td>\n",
              "      <td>...</td>\n",
              "      <td>...</td>\n",
              "      <td>...</td>\n",
              "    </tr>\n",
              "    <tr>\n",
              "      <th>641</th>\n",
              "      <td>0.332594</td>\n",
              "      <td>-1.190300</td>\n",
              "      <td>-0.300787</td>\n",
              "      <td>-1.017514</td>\n",
              "      <td>-1.176249</td>\n",
              "      <td>-0.792256</td>\n",
              "      <td>2.282869</td>\n",
              "      <td>3.068502</td>\n",
              "      <td>-0.522020</td>\n",
              "      <td>-1.097859</td>\n",
              "      <td>-0.295076</td>\n",
              "      <td>0.205674</td>\n",
              "    </tr>\n",
              "    <tr>\n",
              "      <th>642</th>\n",
              "      <td>-0.649892</td>\n",
              "      <td>-1.281752</td>\n",
              "      <td>-0.850977</td>\n",
              "      <td>-0.274399</td>\n",
              "      <td>0.850160</td>\n",
              "      <td>-0.810295</td>\n",
              "      <td>0.819681</td>\n",
              "      <td>-0.170872</td>\n",
              "      <td>-0.297963</td>\n",
              "      <td>-0.145312</td>\n",
              "      <td>0.442667</td>\n",
              "      <td>-2.715732</td>\n",
              "    </tr>\n",
              "    <tr>\n",
              "      <th>643</th>\n",
              "      <td>1.315081</td>\n",
              "      <td>-1.336624</td>\n",
              "      <td>-1.126073</td>\n",
              "      <td>-0.421554</td>\n",
              "      <td>-1.176249</td>\n",
              "      <td>2.557938</td>\n",
              "      <td>-0.883915</td>\n",
              "      <td>-0.170872</td>\n",
              "      <td>-0.507083</td>\n",
              "      <td>1.020043</td>\n",
              "      <td>-0.419150</td>\n",
              "      <td>0.205674</td>\n",
              "    </tr>\n",
              "    <tr>\n",
              "      <th>644</th>\n",
              "      <td>0.366012</td>\n",
              "      <td>0.876527</td>\n",
              "      <td>1.074690</td>\n",
              "      <td>-0.642094</td>\n",
              "      <td>-1.176249</td>\n",
              "      <td>1.355356</td>\n",
              "      <td>-0.578220</td>\n",
              "      <td>-0.170872</td>\n",
              "      <td>-0.988805</td>\n",
              "      <td>-1.380107</td>\n",
              "      <td>0.222044</td>\n",
              "      <td>0.205674</td>\n",
              "    </tr>\n",
              "    <tr>\n",
              "      <th>645</th>\n",
              "      <td>-1.331617</td>\n",
              "      <td>-2.757186</td>\n",
              "      <td>1.624880</td>\n",
              "      <td>-2.878780</td>\n",
              "      <td>-1.176249</td>\n",
              "      <td>-0.750165</td>\n",
              "      <td>2.490250</td>\n",
              "      <td>-0.170812</td>\n",
              "      <td>0.575860</td>\n",
              "      <td>-0.185174</td>\n",
              "      <td>1.139877</td>\n",
              "      <td>0.205674</td>\n",
              "    </tr>\n",
              "  </tbody>\n",
              "</table>\n",
              "<p>696 rows × 12 columns</p>\n",
              "</div>\n",
              "      <button class=\"colab-df-convert\" onclick=\"convertToInteractive('df-311c41ec-cec4-4dd7-8e11-bbaf26cc04a4')\"\n",
              "              title=\"Convert this dataframe to an interactive table.\"\n",
              "              style=\"display:none;\">\n",
              "        \n",
              "  <svg xmlns=\"http://www.w3.org/2000/svg\" height=\"24px\"viewBox=\"0 0 24 24\"\n",
              "       width=\"24px\">\n",
              "    <path d=\"M0 0h24v24H0V0z\" fill=\"none\"/>\n",
              "    <path d=\"M18.56 5.44l.94 2.06.94-2.06 2.06-.94-2.06-.94-.94-2.06-.94 2.06-2.06.94zm-11 1L8.5 8.5l.94-2.06 2.06-.94-2.06-.94L8.5 2.5l-.94 2.06-2.06.94zm10 10l.94 2.06.94-2.06 2.06-.94-2.06-.94-.94-2.06-.94 2.06-2.06.94z\"/><path d=\"M17.41 7.96l-1.37-1.37c-.4-.4-.92-.59-1.43-.59-.52 0-1.04.2-1.43.59L10.3 9.45l-7.72 7.72c-.78.78-.78 2.05 0 2.83L4 21.41c.39.39.9.59 1.41.59.51 0 1.02-.2 1.41-.59l7.78-7.78 2.81-2.81c.8-.78.8-2.07 0-2.86zM5.41 20L4 18.59l7.72-7.72 1.47 1.35L5.41 20z\"/>\n",
              "  </svg>\n",
              "      </button>\n",
              "      \n",
              "  <style>\n",
              "    .colab-df-container {\n",
              "      display:flex;\n",
              "      flex-wrap:wrap;\n",
              "      gap: 12px;\n",
              "    }\n",
              "\n",
              "    .colab-df-convert {\n",
              "      background-color: #E8F0FE;\n",
              "      border: none;\n",
              "      border-radius: 50%;\n",
              "      cursor: pointer;\n",
              "      display: none;\n",
              "      fill: #1967D2;\n",
              "      height: 32px;\n",
              "      padding: 0 0 0 0;\n",
              "      width: 32px;\n",
              "    }\n",
              "\n",
              "    .colab-df-convert:hover {\n",
              "      background-color: #E2EBFA;\n",
              "      box-shadow: 0px 1px 2px rgba(60, 64, 67, 0.3), 0px 1px 3px 1px rgba(60, 64, 67, 0.15);\n",
              "      fill: #174EA6;\n",
              "    }\n",
              "\n",
              "    [theme=dark] .colab-df-convert {\n",
              "      background-color: #3B4455;\n",
              "      fill: #D2E3FC;\n",
              "    }\n",
              "\n",
              "    [theme=dark] .colab-df-convert:hover {\n",
              "      background-color: #434B5C;\n",
              "      box-shadow: 0px 1px 3px 1px rgba(0, 0, 0, 0.15);\n",
              "      filter: drop-shadow(0px 1px 2px rgba(0, 0, 0, 0.3));\n",
              "      fill: #FFFFFF;\n",
              "    }\n",
              "  </style>\n",
              "\n",
              "      <script>\n",
              "        const buttonEl =\n",
              "          document.querySelector('#df-311c41ec-cec4-4dd7-8e11-bbaf26cc04a4 button.colab-df-convert');\n",
              "        buttonEl.style.display =\n",
              "          google.colab.kernel.accessAllowed ? 'block' : 'none';\n",
              "\n",
              "        async function convertToInteractive(key) {\n",
              "          const element = document.querySelector('#df-311c41ec-cec4-4dd7-8e11-bbaf26cc04a4');\n",
              "          const dataTable =\n",
              "            await google.colab.kernel.invokeFunction('convertToInteractive',\n",
              "                                                     [key], {});\n",
              "          if (!dataTable) return;\n",
              "\n",
              "          const docLinkHtml = 'Like what you see? Visit the ' +\n",
              "            '<a target=\"_blank\" href=https://colab.research.google.com/notebooks/data_table.ipynb>data table notebook</a>'\n",
              "            + ' to learn more about interactive tables.';\n",
              "          element.innerHTML = '';\n",
              "          dataTable['output_type'] = 'display_data';\n",
              "          await google.colab.output.renderOutput(dataTable, element);\n",
              "          const docLink = document.createElement('div');\n",
              "          docLink.innerHTML = docLinkHtml;\n",
              "          element.appendChild(docLink);\n",
              "        }\n",
              "      </script>\n",
              "    </div>\n",
              "  </div>\n",
              "  "
            ]
          },
          "metadata": {},
          "execution_count": 131
        }
      ]
    },
    {
      "cell_type": "code",
      "source": [
        "# Convert to absolute values\n",
        "abs_z_scores = np.abs(z_scores)\n",
        "\n",
        "# Select data points with a z-scores above or below 3\n",
        "filtered_entries = (abs_z_scores < 3).all(axis=1)\n",
        "\n",
        "# Filter the dataset\n",
        "df_wo_outliers = newdf[filtered_entries]\n",
        "df_wo_outliers.shape"
      ],
      "metadata": {
        "colab": {
          "base_uri": "https://localhost:8080/"
        },
        "id": "wUSUW8737hCR",
        "outputId": "00463037-1213-4d95-bd16-da1d493a51e7"
      },
      "execution_count": null,
      "outputs": [
        {
          "output_type": "execute_result",
          "data": {
            "text/plain": [
              "(638, 12)"
            ]
          },
          "metadata": {},
          "execution_count": 132
        }
      ]
    },
    {
      "cell_type": "markdown",
      "source": [
        "We have identified and removed 696-638=58 rows that had a z-score above or below 3."
      ],
      "metadata": {
        "id": "zNl5ol5o8UKO"
      }
    },
    {
      "cell_type": "markdown",
      "source": [
        "## BEFORE REMOVING OUTLIERS"
      ],
      "metadata": {
        "id": "wxTQTpEHmTb2"
      }
    },
    {
      "cell_type": "markdown",
      "source": [
        "### Show Boxplot"
      ],
      "metadata": {
        "id": "69J-j9Gcbwsu"
      }
    },
    {
      "cell_type": "code",
      "source": [
        "f, ax = plt.subplots(1,3,figsize=(9,3))\n",
        "\n",
        "newdf[\"acousticness\"].plot(kind=\"box\",ax=ax[0])\n",
        "newdf[\"loudness\"].plot(kind=\"box\",ax=ax[1])\n",
        "newdf[\"energy\"].plot(kind=\"box\",ax=ax[2])"
      ],
      "metadata": {
        "colab": {
          "base_uri": "https://localhost:8080/",
          "height": 230
        },
        "id": "M4uuNRP_HC3S",
        "outputId": "7fa1c8df-83ef-4102-9301-a99737ec42fd"
      },
      "execution_count": null,
      "outputs": [
        {
          "output_type": "execute_result",
          "data": {
            "text/plain": [
              "<matplotlib.axes._subplots.AxesSubplot at 0x7ffad47fd050>"
            ]
          },
          "metadata": {},
          "execution_count": 133
        },
        {
          "output_type": "display_data",
          "data": {
            "text/plain": [
              "<Figure size 648x216 with 3 Axes>"
            ],
            "image/png": "[encoded data removed]"
          },
          "metadata": {
            "needs_background": "light"
          }
        }
      ]
    },
    {
      "cell_type": "markdown",
      "source": [
        "### Comparison between Acousticness, Energy, and Loudness"
      ],
      "metadata": {
        "id": "viT1cpeEb863"
      }
    },
    {
      "cell_type": "markdown",
      "source": [
        "Using scatterplot"
      ],
      "metadata": {
        "id": "pKL7J0odcqMp"
      }
    },
    {
      "cell_type": "code",
      "source": [
        "sns.scatterplot(data=newdf, x=\"acousticness\",y=\"energy\")\n",
        "plt.title(\"acousticness & Energy Relations\")\n",
        "\n",
        "#  acousticness & energy have negative correlation\n",
        "#  it means if acoustics increase then energy will decrease"
      ],
      "metadata": {
        "colab": {
          "base_uri": "https://localhost:8080/",
          "height": 313
        },
        "id": "sSQ__pwOU-gw",
        "outputId": "33a2cdb5-85ce-4cfd-f2f8-8d9fc5ca2149"
      },
      "execution_count": null,
      "outputs": [
        {
          "output_type": "execute_result",
          "data": {
            "text/plain": [
              "Text(0.5, 1.0, 'acousticness & Energy Relations')"
            ]
          },
          "metadata": {},
          "execution_count": 104
        },
        {
          "output_type": "display_data",
          "data": {
            "text/plain": [
              "<Figure size 432x288 with 1 Axes>"
            ],
            "image/png": "[encoded data removed]"
          },
          "metadata": {
            "needs_background": "light"
          }
        }
      ]
    },
    {
      "cell_type": "code",
      "source": [
        "plt.figure(figsize=(9,3))\n",
        "sns.regplot(data=newdf,x=\"loudness\",y=\"energy\")\n",
        "plt.title(\"Loudness & Energy Relations\")\n",
        "\n",
        "# Energy & Loudness is linearly dependent\n",
        "# It means when Loudness increase then Energy increase"
      ],
      "metadata": {
        "colab": {
          "base_uri": "https://localhost:8080/",
          "height": 259
        },
        "id": "ItbupmlT-9NC",
        "outputId": "b10f0dae-0abe-469b-c173-9b8b9433ab01"
      },
      "execution_count": null,
      "outputs": [
        {
          "output_type": "execute_result",
          "data": {
            "text/plain": [
              "Text(0.5, 1.0, 'Loudness & Energy Relations')"
            ]
          },
          "metadata": {},
          "execution_count": 105
        },
        {
          "output_type": "display_data",
          "data": {
            "text/plain": [
              "<Figure size 648x216 with 1 Axes>"
            ],
            "image/png": "[encoded data removed]"
          },
          "metadata": {
            "needs_background": "light"
          }
        }
      ]
    },
    {
      "cell_type": "markdown",
      "source": [
        "### Show distribution of numerical variables of most popular Songs"
      ],
      "metadata": {
        "id": "BpA4yW7amvNz"
      }
    },
    {
      "cell_type": "code",
      "source": [
        "# converting duration into minutes\n",
        "newdf['duration_m'] = newdf.duration_ms.div(1e3).div(60)\n"
      ],
      "metadata": {
        "id": "HieR5IOVmvN0"
      },
      "execution_count": null,
      "outputs": []
    },
    {
      "cell_type": "code",
      "source": [
        "numerical_columns = [\n",
        "    'danceability', 'energy', 'loudness',\n",
        "    'speechiness', 'acousticness', 'duration_m',\n",
        "    'tempo', 'instrumentalness', 'liveness',\n",
        "]\n",
        "\n",
        "no_rows = math.ceil(len(numerical_columns)/3)\n",
        "fig, ax = plt.subplots(3,5, figsize=(9, no_rows*3))\n",
        "ax = ax.flatten()\n",
        "axs = {}\n",
        "\n",
        "for i, column in enumerate(numerical_columns):\n",
        "    sns.histplot(newdf[column], ax=ax[i], bins=50)\n",
        "    axs[column] = ax[i]\n",
        "\n",
        "axs['duration_m'].xaxis.set_major_locator(ticker.MaxNLocator(11))\n",
        "ax[-1].set_axis_off()\n",
        "fig.suptitle('Distribution of numerical variables of most popular Songs');\n",
        "plt.tight_layout()"
      ],
      "metadata": {
        "colab": {
          "base_uri": "https://localhost:8080/",
          "height": 657
        },
        "outputId": "7e32d2c0-06df-4f1a-d226-8076ded96848",
        "id": "P3bPfOVgmvN0"
      },
      "execution_count": null,
      "outputs": [
        {
          "output_type": "display_data",
          "data": {
            "text/plain": [
              "<Figure size 648x648 with 15 Axes>"
            ],
            "image/png": "[encoded data removed]"
          },
          "metadata": {
            "needs_background": "light"
          }
        }
      ]
    },
    {
      "cell_type": "markdown",
      "source": [
        "## AFTER REMOVING OUTLIERS"
      ],
      "metadata": {
        "id": "AW3eufY4mcS5"
      }
    },
    {
      "cell_type": "code",
      "source": [
        "# Remove Energy Outliers\n",
        "iqr = 1.5 * np.percentile(newdf[\"energy\"],75) - np.percentile(newdf[\"energy\"],55)\n",
        "newdf.drop(newdf[(newdf[\"energy\"] > (iqr + np.percentile(newdf[\"energy\"],75))) | (newdf[\"energy\"] < (np.percentile(newdf[\"energy\"],55)-iqr))].index,inplace=True)\n",
        "\n",
        "# Remove loudness Outliers\n",
        "iqr = 1.5 * np.percentile(newdf[\"loudness\"],75) - np.percentile(newdf[\"loudness\"],15)\n",
        "newdf.drop(newdf[(newdf[\"loudness\"] < (np.percentile(newdf[\"loudness\"],10)-iqr))].index,inplace=True)\n",
        "\n",
        "# Remove acousticness Outliers\n",
        "iqr = 1.5 * np.percentile(newdf[\"acousticness\"],65) - np.percentile(newdf[\"acousticness\"],25)\n",
        "newdf.drop(newdf[(newdf[\"acousticness\"] > (iqr + np.percentile(newdf[\"acousticness\"],65)))].index,inplace =True)"
      ],
      "metadata": {
        "id": "5pMMyuBlnXH-"
      },
      "execution_count": null,
      "outputs": []
    },
    {
      "cell_type": "markdown",
      "source": [
        "### Show Boxplot"
      ],
      "metadata": {
        "id": "TvLcTWLimcS6"
      }
    },
    {
      "cell_type": "code",
      "source": [
        "f, ax = plt.subplots(1,3,figsize=(9,3))\n",
        "\n",
        "newdf[\"acousticness\"].plot(kind=\"box\",ax=ax[0])\n",
        "newdf[\"loudness\"].plot(kind=\"box\",ax=ax[1])\n",
        "newdf[\"energy\"].plot(kind=\"box\",ax=ax[2])"
      ],
      "metadata": {
        "colab": {
          "base_uri": "https://localhost:8080/",
          "height": 233
        },
        "outputId": "76522941-868f-40d2-b8ac-8f8c481b9a80",
        "id": "1ekDhfs4mcS6"
      },
      "execution_count": null,
      "outputs": [
        {
          "output_type": "execute_result",
          "data": {
            "text/plain": [
              "<matplotlib.axes._subplots.AxesSubplot at 0x7ffad4841350>"
            ]
          },
          "metadata": {},
          "execution_count": 136
        },
        {
          "output_type": "display_data",
          "data": {
            "text/plain": [
              "<Figure size 648x216 with 3 Axes>"
            ],
            "image/png": "[encoded data removed]"
          },
          "metadata": {
            "needs_background": "light"
          }
        }
      ]
    },
    {
      "cell_type": "markdown",
      "source": [
        "### Comparison between Acousticness, Energy, and Loudness"
      ],
      "metadata": {
        "id": "z9SZRTdMmcS7"
      }
    },
    {
      "cell_type": "markdown",
      "source": [
        "Using scatterplot"
      ],
      "metadata": {
        "id": "pcXA1Sx0mcS7"
      }
    },
    {
      "cell_type": "code",
      "source": [
        "sns.scatterplot(data=newdf, x=\"acousticness\",y=\"energy\")\n",
        "plt.title(\"acousticness & Energy Relations\")\n",
        "\n",
        "#  acousticness & energy have negative correlation\n",
        "#  it means if acoustics increase then energy will decrease"
      ],
      "metadata": {
        "colab": {
          "base_uri": "https://localhost:8080/",
          "height": 313
        },
        "outputId": "15d9dca5-11e0-4346-c4fb-6d4acdf9eba3",
        "id": "Gu85eizGmcS7"
      },
      "execution_count": null,
      "outputs": [
        {
          "output_type": "execute_result",
          "data": {
            "text/plain": [
              "Text(0.5, 1.0, 'acousticness & Energy Relations')"
            ]
          },
          "metadata": {},
          "execution_count": 117
        },
        {
          "output_type": "display_data",
          "data": {
            "text/plain": [
              "<Figure size 432x288 with 1 Axes>"
            ],
            "image/png": "[encoded data removed]"
          },
          "metadata": {
            "needs_background": "light"
          }
        }
      ]
    },
    {
      "cell_type": "code",
      "source": [
        "plt.figure(figsize=(9,3))\n",
        "sns.regplot(data=newdf,x=\"loudness\",y=\"energy\")\n",
        "plt.title(\"Loudness & Energy Relations\")\n",
        "\n",
        "# Energy & Loudness is linearly dependent\n",
        "# It means when Loudness increase then Energy increase"
      ],
      "metadata": {
        "colab": {
          "base_uri": "https://localhost:8080/",
          "height": 259
        },
        "outputId": "687142ab-980e-429f-cc36-5b55e59eb3c2",
        "id": "w4gW22Y-mcS7"
      },
      "execution_count": null,
      "outputs": [
        {
          "output_type": "execute_result",
          "data": {
            "text/plain": [
              "Text(0.5, 1.0, 'Loudness & Energy Relations')"
            ]
          },
          "metadata": {},
          "execution_count": 118
        },
        {
          "output_type": "display_data",
          "data": {
            "text/plain": [
              "<Figure size 648x216 with 1 Axes>"
            ],
            "image/png": "[encoded data removed]"
          },
          "metadata": {
            "needs_background": "light"
          }
        }
      ]
    },
    {
      "cell_type": "markdown",
      "source": [
        "### Show distribution of numerical variables of most popular Songs"
      ],
      "metadata": {
        "id": "gbJDVcTTnB9m"
      }
    },
    {
      "cell_type": "code",
      "source": [
        "numerical_columns = [\n",
        "    'danceability', 'energy', 'loudness',\n",
        "    'speechiness', 'acousticness', 'duration_m',\n",
        "    'tempo', 'instrumentalness', 'liveness',\n",
        "]\n",
        "\n",
        "no_rows = math.ceil(len(numerical_columns)/3)\n",
        "fig, ax = plt.subplots(3,5, figsize=(9, no_rows*3))\n",
        "ax = ax.flatten()\n",
        "axs = {}\n",
        "\n",
        "for i, column in enumerate(numerical_columns):\n",
        "    sns.histplot(newdf[column], ax=ax[i], bins=50)\n",
        "    axs[column] = ax[i]\n",
        "\n",
        "axs['duration_m'].xaxis.set_major_locator(ticker.MaxNLocator(11))\n",
        "ax[-1].set_axis_off()\n",
        "fig.suptitle('Distribution of numerical variables of most popular Songs');\n",
        "plt.tight_layout()"
      ],
      "metadata": {
        "colab": {
          "base_uri": "https://localhost:8080/",
          "height": 657
        },
        "outputId": "9df96432-b27c-426a-9a50-90747989832a",
        "id": "fBfOXqFXnB9n"
      },
      "execution_count": null,
      "outputs": [
        {
          "output_type": "display_data",
          "data": {
            "text/plain": [
              "<Figure size 648x648 with 15 Axes>"
            ],
            "image/png": "[encoded data removed]"
          },
          "metadata": {
            "needs_background": "light"
          }
        }
      ]
    },
    {
      "cell_type": "markdown",
      "source": [
        "# DATA REDUCTION"
      ],
      "metadata": {
        "id": "dUV9LYhsqBb5"
      }
    },
    {
      "cell_type": "markdown",
      "source": [
        "Using PCA"
      ],
      "metadata": {
        "id": "EG5UcFNYU3XN"
      }
    },
    {
      "cell_type": "code",
      "source": [
        "from sklearn.decomposition import PCA\n",
        "from sklearn.preprocessing import StandardScaler\n",
        "scalar = StandardScaler()\n",
        "df_scaled = pd.DataFrame(scalar.fit_transform(newdf), columns=newdf.columns)\n",
        "df_scaled"
      ],
      "metadata": {
        "colab": {
          "base_uri": "https://localhost:8080/",
          "height": 487
        },
        "id": "UEZoBanNqF0b",
        "outputId": "20dcf3f5-1d13-457c-fe5d-0c95feee5046"
      },
      "execution_count": null,
      "outputs": [
        {
          "output_type": "execute_result",
          "data": {
            "text/plain": [
              "     danceability    energy       key  loudness      mode  speechiness  \\\n",
              "0       -0.694859 -1.284955  0.805074 -0.521204 -1.158092     1.152430   \n",
              "1       -0.709063  0.639402 -1.109783  0.146063  0.863489    -0.622076   \n",
              "2       -0.907920 -0.097899  1.078625  0.382644  0.863489     0.470325   \n",
              "3        0.079265  1.089156  0.257972  1.058514 -1.158092    -0.500124   \n",
              "4       -0.098287  0.138037 -1.383334 -0.228703  0.863489     0.108603   \n",
              "..            ...       ...       ...       ...       ...          ...   \n",
              "592      0.398857  0.455077  0.805074 -0.135684  0.863489    -0.617942   \n",
              "593     -1.192002  0.101172 -1.109783  1.050449  0.863489    -0.260353   \n",
              "594     -0.801389 -1.815812 -0.836232 -0.687348  0.863489    -0.843243   \n",
              "595      1.286613 -1.882169 -1.109783 -0.892206 -1.158092     2.630324   \n",
              "596      0.278122  0.794235  1.078625 -1.199224 -1.158092     1.390133   \n",
              "\n",
              "     acousticness  instrumentalness  liveness     tempo  duration_ms  \\\n",
              "0        0.615092         -0.152051  1.629615  2.011811    -1.230798   \n",
              "1       -0.814647         -0.152051 -0.578792  1.699742    -1.153496   \n",
              "2        0.850856         -0.152051 -0.711150  1.593992    -0.468650   \n",
              "3       -0.980075         -0.152051 -0.839121 -0.660287     0.000911   \n",
              "4        0.772268         -0.152051  1.739304 -1.116670    -0.092975   \n",
              "..            ...               ...       ...       ...          ...   \n",
              "592     -0.970139         -0.151696 -0.593417 -0.025116     0.323763   \n",
              "593     -0.283056         -0.152051  1.059231 -0.971510    -0.806616   \n",
              "594      1.603054         -0.152051 -0.330163 -0.166715     0.451513   \n",
              "595     -0.887061         -0.152051 -0.534916  0.995727    -0.421179   \n",
              "596     -0.440232         -0.152051 -1.006579 -1.398424     0.228106   \n",
              "\n",
              "     time_signature  duration_m  \n",
              "0          0.192923   -1.230798  \n",
              "1          0.192923   -1.153496  \n",
              "2          0.192923   -0.468650  \n",
              "3          0.192923    0.000911  \n",
              "4          0.192923   -0.092975  \n",
              "..              ...         ...  \n",
              "592        0.192923    0.323763  \n",
              "593        0.192923   -0.806616  \n",
              "594       -2.760280    0.451513  \n",
              "595        0.192923   -0.421179  \n",
              "596        0.192923    0.228106  \n",
              "\n",
              "[597 rows x 13 columns]"
            ],
            "text/html": [
              "\n",
              "  <div id=\"df-ef687aff-d283-40b2-b972-fb21006be361\">\n",
              "    <div class=\"colab-df-container\">\n",
              "      <div>\n",
              "<style scoped>\n",
              "    .dataframe tbody tr th:only-of-type {\n",
              "        vertical-align: middle;\n",
              "    }\n",
              "\n",
              "    .dataframe tbody tr th {\n",
              "        vertical-align: top;\n",
              "    }\n",
              "\n",
              "    .dataframe thead th {\n",
              "        text-align: right;\n",
              "    }\n",
              "</style>\n",
              "<table border=\"1\" class=\"dataframe\">\n",
              "  <thead>\n",
              "    <tr style=\"text-align: right;\">\n",
              "      <th></th>\n",
              "      <th>danceability</th>\n",
              "      <th>energy</th>\n",
              "      <th>key</th>\n",
              "      <th>loudness</th>\n",
              "      <th>mode</th>\n",
              "      <th>speechiness</th>\n",
              "      <th>acousticness</th>\n",
              "      <th>instrumentalness</th>\n",
              "      <th>liveness</th>\n",
              "      <th>tempo</th>\n",
              "      <th>duration_ms</th>\n",
              "      <th>time_signature</th>\n",
              "      <th>duration_m</th>\n",
              "    </tr>\n",
              "  </thead>\n",
              "  <tbody>\n",
              "    <tr>\n",
              "      <th>0</th>\n",
              "      <td>-0.694859</td>\n",
              "      <td>-1.284955</td>\n",
              "      <td>0.805074</td>\n",
              "      <td>-0.521204</td>\n",
              "      <td>-1.158092</td>\n",
              "      <td>1.152430</td>\n",
              "      <td>0.615092</td>\n",
              "      <td>-0.152051</td>\n",
              "      <td>1.629615</td>\n",
              "      <td>2.011811</td>\n",
              "      <td>-1.230798</td>\n",
              "      <td>0.192923</td>\n",
              "      <td>-1.230798</td>\n",
              "    </tr>\n",
              "    <tr>\n",
              "      <th>1</th>\n",
              "      <td>-0.709063</td>\n",
              "      <td>0.639402</td>\n",
              "      <td>-1.109783</td>\n",
              "      <td>0.146063</td>\n",
              "      <td>0.863489</td>\n",
              "      <td>-0.622076</td>\n",
              "      <td>-0.814647</td>\n",
              "      <td>-0.152051</td>\n",
              "      <td>-0.578792</td>\n",
              "      <td>1.699742</td>\n",
              "      <td>-1.153496</td>\n",
              "      <td>0.192923</td>\n",
              "      <td>-1.153496</td>\n",
              "    </tr>\n",
              "    <tr>\n",
              "      <th>2</th>\n",
              "      <td>-0.907920</td>\n",
              "      <td>-0.097899</td>\n",
              "      <td>1.078625</td>\n",
              "      <td>0.382644</td>\n",
              "      <td>0.863489</td>\n",
              "      <td>0.470325</td>\n",
              "      <td>0.850856</td>\n",
              "      <td>-0.152051</td>\n",
              "      <td>-0.711150</td>\n",
              "      <td>1.593992</td>\n",
              "      <td>-0.468650</td>\n",
              "      <td>0.192923</td>\n",
              "      <td>-0.468650</td>\n",
              "    </tr>\n",
              "    <tr>\n",
              "      <th>3</th>\n",
              "      <td>0.079265</td>\n",
              "      <td>1.089156</td>\n",
              "      <td>0.257972</td>\n",
              "      <td>1.058514</td>\n",
              "      <td>-1.158092</td>\n",
              "      <td>-0.500124</td>\n",
              "      <td>-0.980075</td>\n",
              "      <td>-0.152051</td>\n",
              "      <td>-0.839121</td>\n",
              "      <td>-0.660287</td>\n",
              "      <td>0.000911</td>\n",
              "      <td>0.192923</td>\n",
              "      <td>0.000911</td>\n",
              "    </tr>\n",
              "    <tr>\n",
              "      <th>4</th>\n",
              "      <td>-0.098287</td>\n",
              "      <td>0.138037</td>\n",
              "      <td>-1.383334</td>\n",
              "      <td>-0.228703</td>\n",
              "      <td>0.863489</td>\n",
              "      <td>0.108603</td>\n",
              "      <td>0.772268</td>\n",
              "      <td>-0.152051</td>\n",
              "      <td>1.739304</td>\n",
              "      <td>-1.116670</td>\n",
              "      <td>-0.092975</td>\n",
              "      <td>0.192923</td>\n",
              "      <td>-0.092975</td>\n",
              "    </tr>\n",
              "    <tr>\n",
              "      <th>...</th>\n",
              "      <td>...</td>\n",
              "      <td>...</td>\n",
              "      <td>...</td>\n",
              "      <td>...</td>\n",
              "      <td>...</td>\n",
              "      <td>...</td>\n",
              "      <td>...</td>\n",
              "      <td>...</td>\n",
              "      <td>...</td>\n",
              "      <td>...</td>\n",
              "      <td>...</td>\n",
              "      <td>...</td>\n",
              "      <td>...</td>\n",
              "    </tr>\n",
              "    <tr>\n",
              "      <th>592</th>\n",
              "      <td>0.398857</td>\n",
              "      <td>0.455077</td>\n",
              "      <td>0.805074</td>\n",
              "      <td>-0.135684</td>\n",
              "      <td>0.863489</td>\n",
              "      <td>-0.617942</td>\n",
              "      <td>-0.970139</td>\n",
              "      <td>-0.151696</td>\n",
              "      <td>-0.593417</td>\n",
              "      <td>-0.025116</td>\n",
              "      <td>0.323763</td>\n",
              "      <td>0.192923</td>\n",
              "      <td>0.323763</td>\n",
              "    </tr>\n",
              "    <tr>\n",
              "      <th>593</th>\n",
              "      <td>-1.192002</td>\n",
              "      <td>0.101172</td>\n",
              "      <td>-1.109783</td>\n",
              "      <td>1.050449</td>\n",
              "      <td>0.863489</td>\n",
              "      <td>-0.260353</td>\n",
              "      <td>-0.283056</td>\n",
              "      <td>-0.152051</td>\n",
              "      <td>1.059231</td>\n",
              "      <td>-0.971510</td>\n",
              "      <td>-0.806616</td>\n",
              "      <td>0.192923</td>\n",
              "      <td>-0.806616</td>\n",
              "    </tr>\n",
              "    <tr>\n",
              "      <th>594</th>\n",
              "      <td>-0.801389</td>\n",
              "      <td>-1.815812</td>\n",
              "      <td>-0.836232</td>\n",
              "      <td>-0.687348</td>\n",
              "      <td>0.863489</td>\n",
              "      <td>-0.843243</td>\n",
              "      <td>1.603054</td>\n",
              "      <td>-0.152051</td>\n",
              "      <td>-0.330163</td>\n",
              "      <td>-0.166715</td>\n",
              "      <td>0.451513</td>\n",
              "      <td>-2.760280</td>\n",
              "      <td>0.451513</td>\n",
              "    </tr>\n",
              "    <tr>\n",
              "      <th>595</th>\n",
              "      <td>1.286613</td>\n",
              "      <td>-1.882169</td>\n",
              "      <td>-1.109783</td>\n",
              "      <td>-0.892206</td>\n",
              "      <td>-1.158092</td>\n",
              "      <td>2.630324</td>\n",
              "      <td>-0.887061</td>\n",
              "      <td>-0.152051</td>\n",
              "      <td>-0.534916</td>\n",
              "      <td>0.995727</td>\n",
              "      <td>-0.421179</td>\n",
              "      <td>0.192923</td>\n",
              "      <td>-0.421179</td>\n",
              "    </tr>\n",
              "    <tr>\n",
              "      <th>596</th>\n",
              "      <td>0.278122</td>\n",
              "      <td>0.794235</td>\n",
              "      <td>1.078625</td>\n",
              "      <td>-1.199224</td>\n",
              "      <td>-1.158092</td>\n",
              "      <td>1.390133</td>\n",
              "      <td>-0.440232</td>\n",
              "      <td>-0.152051</td>\n",
              "      <td>-1.006579</td>\n",
              "      <td>-1.398424</td>\n",
              "      <td>0.228106</td>\n",
              "      <td>0.192923</td>\n",
              "      <td>0.228106</td>\n",
              "    </tr>\n",
              "  </tbody>\n",
              "</table>\n",
              "<p>597 rows × 13 columns</p>\n",
              "</div>\n",
              "      <button class=\"colab-df-convert\" onclick=\"convertToInteractive('df-ef687aff-d283-40b2-b972-fb21006be361')\"\n",
              "              title=\"Convert this dataframe to an interactive table.\"\n",
              "              style=\"display:none;\">\n",
              "        \n",
              "  <svg xmlns=\"http://www.w3.org/2000/svg\" height=\"24px\"viewBox=\"0 0 24 24\"\n",
              "       width=\"24px\">\n",
              "    <path d=\"M0 0h24v24H0V0z\" fill=\"none\"/>\n",
              "    <path d=\"M18.56 5.44l.94 2.06.94-2.06 2.06-.94-2.06-.94-.94-2.06-.94 2.06-2.06.94zm-11 1L8.5 8.5l.94-2.06 2.06-.94-2.06-.94L8.5 2.5l-.94 2.06-2.06.94zm10 10l.94 2.06.94-2.06 2.06-.94-2.06-.94-.94-2.06-.94 2.06-2.06.94z\"/><path d=\"M17.41 7.96l-1.37-1.37c-.4-.4-.92-.59-1.43-.59-.52 0-1.04.2-1.43.59L10.3 9.45l-7.72 7.72c-.78.78-.78 2.05 0 2.83L4 21.41c.39.39.9.59 1.41.59.51 0 1.02-.2 1.41-.59l7.78-7.78 2.81-2.81c.8-.78.8-2.07 0-2.86zM5.41 20L4 18.59l7.72-7.72 1.47 1.35L5.41 20z\"/>\n",
              "  </svg>\n",
              "      </button>\n",
              "      \n",
              "  <style>\n",
              "    .colab-df-container {\n",
              "      display:flex;\n",
              "      flex-wrap:wrap;\n",
              "      gap: 12px;\n",
              "    }\n",
              "\n",
              "    .colab-df-convert {\n",
              "      background-color: #E8F0FE;\n",
              "      border: none;\n",
              "      border-radius: 50%;\n",
              "      cursor: pointer;\n",
              "      display: none;\n",
              "      fill: #1967D2;\n",
              "      height: 32px;\n",
              "      padding: 0 0 0 0;\n",
              "      width: 32px;\n",
              "    }\n",
              "\n",
              "    .colab-df-convert:hover {\n",
              "      background-color: #E2EBFA;\n",
              "      box-shadow: 0px 1px 2px rgba(60, 64, 67, 0.3), 0px 1px 3px 1px rgba(60, 64, 67, 0.15);\n",
              "      fill: #174EA6;\n",
              "    }\n",
              "\n",
              "    [theme=dark] .colab-df-convert {\n",
              "      background-color: #3B4455;\n",
              "      fill: #D2E3FC;\n",
              "    }\n",
              "\n",
              "    [theme=dark] .colab-df-convert:hover {\n",
              "      background-color: #434B5C;\n",
              "      box-shadow: 0px 1px 3px 1px rgba(0, 0, 0, 0.15);\n",
              "      filter: drop-shadow(0px 1px 2px rgba(0, 0, 0, 0.3));\n",
              "      fill: #FFFFFF;\n",
              "    }\n",
              "  </style>\n",
              "\n",
              "      <script>\n",
              "        const buttonEl =\n",
              "          document.querySelector('#df-ef687aff-d283-40b2-b972-fb21006be361 button.colab-df-convert');\n",
              "        buttonEl.style.display =\n",
              "          google.colab.kernel.accessAllowed ? 'block' : 'none';\n",
              "\n",
              "        async function convertToInteractive(key) {\n",
              "          const element = document.querySelector('#df-ef687aff-d283-40b2-b972-fb21006be361');\n",
              "          const dataTable =\n",
              "            await google.colab.kernel.invokeFunction('convertToInteractive',\n",
              "                                                     [key], {});\n",
              "          if (!dataTable) return;\n",
              "\n",
              "          const docLinkHtml = 'Like what you see? Visit the ' +\n",
              "            '<a target=\"_blank\" href=https://colab.research.google.com/notebooks/data_table.ipynb>data table notebook</a>'\n",
              "            + ' to learn more about interactive tables.';\n",
              "          element.innerHTML = '';\n",
              "          dataTable['output_type'] = 'display_data';\n",
              "          await google.colab.output.renderOutput(dataTable, element);\n",
              "          const docLink = document.createElement('div');\n",
              "          docLink.innerHTML = docLinkHtml;\n",
              "          element.appendChild(docLink);\n",
              "        }\n",
              "      </script>\n",
              "    </div>\n",
              "  </div>\n",
              "  "
            ]
          },
          "metadata": {},
          "execution_count": 120
        }
      ]
    },
    {
      "cell_type": "code",
      "source": [
        "pca = PCA()\n",
        "df_pca = pd.DataFrame(pca.fit_transform(df_scaled))\n",
        "df_pca"
      ],
      "metadata": {
        "colab": {
          "base_uri": "https://localhost:8080/",
          "height": 661
        },
        "id": "O9SfqZKwqm-E",
        "outputId": "7d9e3889-fa0f-49f6-848e-4d4785895ca0"
      },
      "execution_count": null,
      "outputs": [
        {
          "output_type": "execute_result",
          "data": {
            "text/plain": [
              "           0         1         2         3         4         5         6   \\\n",
              "0   -1.152144  1.903546  0.161589  2.589851 -1.612593  0.814424 -0.387393   \n",
              "1   -1.481779 -0.375719  1.977052  0.935922  0.069057 -1.174305  0.299974   \n",
              "2   -0.541960  0.380636  0.646975  1.263312  0.076209 -0.489947  1.070902   \n",
              "3   -0.598890 -1.655831 -0.717742 -0.116204  0.754956  0.649537  0.404109   \n",
              "4    0.097340  0.322384  0.878197 -1.534643 -1.468521 -0.130127 -1.281422   \n",
              "..        ...       ...       ...       ...       ...       ...       ...   \n",
              "592  0.126799 -0.950351 -0.260767 -0.056929  0.965098 -0.440084  0.061058   \n",
              "593 -0.935734 -0.483244  1.718678 -1.048000 -0.746067  0.045494 -0.728929   \n",
              "594  1.712704  2.421886  1.746829 -1.426372  0.135046  0.716184  1.547158   \n",
              "595 -0.521767  2.059979 -1.670641  1.349240 -0.699989 -1.871996  0.216470   \n",
              "596  0.284035  0.068844 -2.188599  0.300962  0.787919  0.076036  0.145177   \n",
              "\n",
              "           7         8         9         10        11            12  \n",
              "0   -0.279015  0.479635 -0.051827 -0.213952 -0.663248  3.733339e-16  \n",
              "1   -0.188705 -1.077475  0.115544  0.091925  0.304538  6.152272e-16  \n",
              "2   -1.676760  0.786087  0.260177 -0.093036 -0.170418 -3.330127e-16  \n",
              "3    0.477858 -0.596648  0.427345  0.757732 -0.080333  1.317052e-15  \n",
              "4    0.360359  0.616919 -0.042910  0.089592  0.350121  3.542549e-16  \n",
              "..        ...       ...       ...       ...       ...           ...  \n",
              "592 -0.614289 -0.307405 -0.968616 -0.235242  0.373254 -3.570350e-17  \n",
              "593  0.194499  0.371788 -0.228066  1.071392 -0.678106  1.749528e-16  \n",
              "594 -0.080536 -0.351941 -0.327572 -0.489379 -0.193763 -1.555617e-16  \n",
              "595  1.863681 -0.553645 -0.055910  0.003377 -1.006750 -1.444367e-17  \n",
              "596  0.688189  0.638186 -0.162065  1.404494  1.190374 -2.477095e-16  \n",
              "\n",
              "[597 rows x 13 columns]"
            ],
            "text/html": [
              "\n",
              "  <div id=\"df-6e8e156f-9de4-42f5-a47a-2f01bae67f66\">\n",
              "    <div class=\"colab-df-container\">\n",
              "      <div>\n",
              "<style scoped>\n",
              "    .dataframe tbody tr th:only-of-type {\n",
              "        vertical-align: middle;\n",
              "    }\n",
              "\n",
              "    .dataframe tbody tr th {\n",
              "        vertical-align: top;\n",
              "    }\n",
              "\n",
              "    .dataframe thead th {\n",
              "        text-align: right;\n",
              "    }\n",
              "</style>\n",
              "<table border=\"1\" class=\"dataframe\">\n",
              "  <thead>\n",
              "    <tr style=\"text-align: right;\">\n",
              "      <th></th>\n",
              "      <th>0</th>\n",
              "      <th>1</th>\n",
              "      <th>2</th>\n",
              "      <th>3</th>\n",
              "      <th>4</th>\n",
              "      <th>5</th>\n",
              "      <th>6</th>\n",
              "      <th>7</th>\n",
              "      <th>8</th>\n",
              "      <th>9</th>\n",
              "      <th>10</th>\n",
              "      <th>11</th>\n",
              "      <th>12</th>\n",
              "    </tr>\n",
              "  </thead>\n",
              "  <tbody>\n",
              "    <tr>\n",
              "      <th>0</th>\n",
              "      <td>-1.152144</td>\n",
              "      <td>1.903546</td>\n",
              "      <td>0.161589</td>\n",
              "      <td>2.589851</td>\n",
              "      <td>-1.612593</td>\n",
              "      <td>0.814424</td>\n",
              "      <td>-0.387393</td>\n",
              "      <td>-0.279015</td>\n",
              "      <td>0.479635</td>\n",
              "      <td>-0.051827</td>\n",
              "      <td>-0.213952</td>\n",
              "      <td>-0.663248</td>\n",
              "      <td>3.733339e-16</td>\n",
              "    </tr>\n",
              "    <tr>\n",
              "      <th>1</th>\n",
              "      <td>-1.481779</td>\n",
              "      <td>-0.375719</td>\n",
              "      <td>1.977052</td>\n",
              "      <td>0.935922</td>\n",
              "      <td>0.069057</td>\n",
              "      <td>-1.174305</td>\n",
              "      <td>0.299974</td>\n",
              "      <td>-0.188705</td>\n",
              "      <td>-1.077475</td>\n",
              "      <td>0.115544</td>\n",
              "      <td>0.091925</td>\n",
              "      <td>0.304538</td>\n",
              "      <td>6.152272e-16</td>\n",
              "    </tr>\n",
              "    <tr>\n",
              "      <th>2</th>\n",
              "      <td>-0.541960</td>\n",
              "      <td>0.380636</td>\n",
              "      <td>0.646975</td>\n",
              "      <td>1.263312</td>\n",
              "      <td>0.076209</td>\n",
              "      <td>-0.489947</td>\n",
              "      <td>1.070902</td>\n",
              "      <td>-1.676760</td>\n",
              "      <td>0.786087</td>\n",
              "      <td>0.260177</td>\n",
              "      <td>-0.093036</td>\n",
              "      <td>-0.170418</td>\n",
              "      <td>-3.330127e-16</td>\n",
              "    </tr>\n",
              "    <tr>\n",
              "      <th>3</th>\n",
              "      <td>-0.598890</td>\n",
              "      <td>-1.655831</td>\n",
              "      <td>-0.717742</td>\n",
              "      <td>-0.116204</td>\n",
              "      <td>0.754956</td>\n",
              "      <td>0.649537</td>\n",
              "      <td>0.404109</td>\n",
              "      <td>0.477858</td>\n",
              "      <td>-0.596648</td>\n",
              "      <td>0.427345</td>\n",
              "      <td>0.757732</td>\n",
              "      <td>-0.080333</td>\n",
              "      <td>1.317052e-15</td>\n",
              "    </tr>\n",
              "    <tr>\n",
              "      <th>4</th>\n",
              "      <td>0.097340</td>\n",
              "      <td>0.322384</td>\n",
              "      <td>0.878197</td>\n",
              "      <td>-1.534643</td>\n",
              "      <td>-1.468521</td>\n",
              "      <td>-0.130127</td>\n",
              "      <td>-1.281422</td>\n",
              "      <td>0.360359</td>\n",
              "      <td>0.616919</td>\n",
              "      <td>-0.042910</td>\n",
              "      <td>0.089592</td>\n",
              "      <td>0.350121</td>\n",
              "      <td>3.542549e-16</td>\n",
              "    </tr>\n",
              "    <tr>\n",
              "      <th>...</th>\n",
              "      <td>...</td>\n",
              "      <td>...</td>\n",
              "      <td>...</td>\n",
              "      <td>...</td>\n",
              "      <td>...</td>\n",
              "      <td>...</td>\n",
              "      <td>...</td>\n",
              "      <td>...</td>\n",
              "      <td>...</td>\n",
              "      <td>...</td>\n",
              "      <td>...</td>\n",
              "      <td>...</td>\n",
              "      <td>...</td>\n",
              "    </tr>\n",
              "    <tr>\n",
              "      <th>592</th>\n",
              "      <td>0.126799</td>\n",
              "      <td>-0.950351</td>\n",
              "      <td>-0.260767</td>\n",
              "      <td>-0.056929</td>\n",
              "      <td>0.965098</td>\n",
              "      <td>-0.440084</td>\n",
              "      <td>0.061058</td>\n",
              "      <td>-0.614289</td>\n",
              "      <td>-0.307405</td>\n",
              "      <td>-0.968616</td>\n",
              "      <td>-0.235242</td>\n",
              "      <td>0.373254</td>\n",
              "      <td>-3.570350e-17</td>\n",
              "    </tr>\n",
              "    <tr>\n",
              "      <th>593</th>\n",
              "      <td>-0.935734</td>\n",
              "      <td>-0.483244</td>\n",
              "      <td>1.718678</td>\n",
              "      <td>-1.048000</td>\n",
              "      <td>-0.746067</td>\n",
              "      <td>0.045494</td>\n",
              "      <td>-0.728929</td>\n",
              "      <td>0.194499</td>\n",
              "      <td>0.371788</td>\n",
              "      <td>-0.228066</td>\n",
              "      <td>1.071392</td>\n",
              "      <td>-0.678106</td>\n",
              "      <td>1.749528e-16</td>\n",
              "    </tr>\n",
              "    <tr>\n",
              "      <th>594</th>\n",
              "      <td>1.712704</td>\n",
              "      <td>2.421886</td>\n",
              "      <td>1.746829</td>\n",
              "      <td>-1.426372</td>\n",
              "      <td>0.135046</td>\n",
              "      <td>0.716184</td>\n",
              "      <td>1.547158</td>\n",
              "      <td>-0.080536</td>\n",
              "      <td>-0.351941</td>\n",
              "      <td>-0.327572</td>\n",
              "      <td>-0.489379</td>\n",
              "      <td>-0.193763</td>\n",
              "      <td>-1.555617e-16</td>\n",
              "    </tr>\n",
              "    <tr>\n",
              "      <th>595</th>\n",
              "      <td>-0.521767</td>\n",
              "      <td>2.059979</td>\n",
              "      <td>-1.670641</td>\n",
              "      <td>1.349240</td>\n",
              "      <td>-0.699989</td>\n",
              "      <td>-1.871996</td>\n",
              "      <td>0.216470</td>\n",
              "      <td>1.863681</td>\n",
              "      <td>-0.553645</td>\n",
              "      <td>-0.055910</td>\n",
              "      <td>0.003377</td>\n",
              "      <td>-1.006750</td>\n",
              "      <td>-1.444367e-17</td>\n",
              "    </tr>\n",
              "    <tr>\n",
              "      <th>596</th>\n",
              "      <td>0.284035</td>\n",
              "      <td>0.068844</td>\n",
              "      <td>-2.188599</td>\n",
              "      <td>0.300962</td>\n",
              "      <td>0.787919</td>\n",
              "      <td>0.076036</td>\n",
              "      <td>0.145177</td>\n",
              "      <td>0.688189</td>\n",
              "      <td>0.638186</td>\n",
              "      <td>-0.162065</td>\n",
              "      <td>1.404494</td>\n",
              "      <td>1.190374</td>\n",
              "      <td>-2.477095e-16</td>\n",
              "    </tr>\n",
              "  </tbody>\n",
              "</table>\n",
              "<p>597 rows × 13 columns</p>\n",
              "</div>\n",
              "      <button class=\"colab-df-convert\" onclick=\"convertToInteractive('df-6e8e156f-9de4-42f5-a47a-2f01bae67f66')\"\n",
              "              title=\"Convert this dataframe to an interactive table.\"\n",
              "              style=\"display:none;\">\n",
              "        \n",
              "  <svg xmlns=\"http://www.w3.org/2000/svg\" height=\"24px\"viewBox=\"0 0 24 24\"\n",
              "       width=\"24px\">\n",
              "    <path d=\"M0 0h24v24H0V0z\" fill=\"none\"/>\n",
              "    <path d=\"M18.56 5.44l.94 2.06.94-2.06 2.06-.94-2.06-.94-.94-2.06-.94 2.06-2.06.94zm-11 1L8.5 8.5l.94-2.06 2.06-.94-2.06-.94L8.5 2.5l-.94 2.06-2.06.94zm10 10l.94 2.06.94-2.06 2.06-.94-2.06-.94-.94-2.06-.94 2.06-2.06.94z\"/><path d=\"M17.41 7.96l-1.37-1.37c-.4-.4-.92-.59-1.43-.59-.52 0-1.04.2-1.43.59L10.3 9.45l-7.72 7.72c-.78.78-.78 2.05 0 2.83L4 21.41c.39.39.9.59 1.41.59.51 0 1.02-.2 1.41-.59l7.78-7.78 2.81-2.81c.8-.78.8-2.07 0-2.86zM5.41 20L4 18.59l7.72-7.72 1.47 1.35L5.41 20z\"/>\n",
              "  </svg>\n",
              "      </button>\n",
              "      \n",
              "  <style>\n",
              "    .colab-df-container {\n",
              "      display:flex;\n",
              "      flex-wrap:wrap;\n",
              "      gap: 12px;\n",
              "    }\n",
              "\n",
              "    .colab-df-convert {\n",
              "      background-color: #E8F0FE;\n",
              "      border: none;\n",
              "      border-radius: 50%;\n",
              "      cursor: pointer;\n",
              "      display: none;\n",
              "      fill: #1967D2;\n",
              "      height: 32px;\n",
              "      padding: 0 0 0 0;\n",
              "      width: 32px;\n",
              "    }\n",
              "\n",
              "    .colab-df-convert:hover {\n",
              "      background-color: #E2EBFA;\n",
              "      box-shadow: 0px 1px 2px rgba(60, 64, 67, 0.3), 0px 1px 3px 1px rgba(60, 64, 67, 0.15);\n",
              "      fill: #174EA6;\n",
              "    }\n",
              "\n",
              "    [theme=dark] .colab-df-convert {\n",
              "      background-color: #3B4455;\n",
              "      fill: #D2E3FC;\n",
              "    }\n",
              "\n",
              "    [theme=dark] .colab-df-convert:hover {\n",
              "      background-color: #434B5C;\n",
              "      box-shadow: 0px 1px 3px 1px rgba(0, 0, 0, 0.15);\n",
              "      filter: drop-shadow(0px 1px 2px rgba(0, 0, 0, 0.3));\n",
              "      fill: #FFFFFF;\n",
              "    }\n",
              "  </style>\n",
              "\n",
              "      <script>\n",
              "        const buttonEl =\n",
              "          document.querySelector('#df-6e8e156f-9de4-42f5-a47a-2f01bae67f66 button.colab-df-convert');\n",
              "        buttonEl.style.display =\n",
              "          google.colab.kernel.accessAllowed ? 'block' : 'none';\n",
              "\n",
              "        async function convertToInteractive(key) {\n",
              "          const element = document.querySelector('#df-6e8e156f-9de4-42f5-a47a-2f01bae67f66');\n",
              "          const dataTable =\n",
              "            await google.colab.kernel.invokeFunction('convertToInteractive',\n",
              "                                                     [key], {});\n",
              "          if (!dataTable) return;\n",
              "\n",
              "          const docLinkHtml = 'Like what you see? Visit the ' +\n",
              "            '<a target=\"_blank\" href=https://colab.research.google.com/notebooks/data_table.ipynb>data table notebook</a>'\n",
              "            + ' to learn more about interactive tables.';\n",
              "          element.innerHTML = '';\n",
              "          dataTable['output_type'] = 'display_data';\n",
              "          await google.colab.output.renderOutput(dataTable, element);\n",
              "          const docLink = document.createElement('div');\n",
              "          docLink.innerHTML = docLinkHtml;\n",
              "          element.appendChild(docLink);\n",
              "        }\n",
              "      </script>\n",
              "    </div>\n",
              "  </div>\n",
              "  "
            ]
          },
          "metadata": {},
          "execution_count": 121
        }
      ]
    },
    {
      "cell_type": "code",
      "source": [
        "pd.DataFrame(pca.explained_variance_ratio_).plot.bar()\n",
        "plt.legend('')\n",
        "plt.xlabel('Principal Components')\n",
        "plt.ylabel('Explained Variance');"
      ],
      "metadata": {
        "colab": {
          "base_uri": "https://localhost:8080/",
          "height": 282
        },
        "id": "a0ws8h5Qq9J0",
        "outputId": "bd6cfc33-e10a-467d-8056-7e4f6bbe7cb1"
      },
      "execution_count": null,
      "outputs": [
        {
          "output_type": "display_data",
          "data": {
            "text/plain": [
              "<Figure size 432x288 with 1 Axes>"
            ],
            "image/png": "[encoded data removed]"
          },
          "metadata": {
            "needs_background": "light"
          }
        }
      ]
    },
    {
      "cell_type": "markdown",
      "source": [
        "The first 7 Principal Components are capturing around 80% of the variance so we can replace the 13 original features with the new 7 features having 80% of the information. So, we have reduced the 13 dimensions to only 7 dimensions while retaining most of the information."
      ],
      "metadata": {
        "id": "6CfqxCCYtovy"
      }
    },
    {
      "cell_type": "markdown",
      "source": [
        "# SAVING NEW DATA"
      ],
      "metadata": {
        "id": "EJIY8J9bY0rR"
      }
    },
    {
      "cell_type": "markdown",
      "source": [
        "Saving the new data into csv"
      ],
      "metadata": {
        "id": "YebkzbaPY6cG"
      }
    },
    {
      "cell_type": "code",
      "source": [
        "newdf.to_csv('drive/MyDrive/RekDat/spotify_top_charts_21_22_merged.csv',index=False)"
      ],
      "metadata": {
        "id": "zaT-09HAYLh1"
      },
      "execution_count": null,
      "outputs": []
    }
  ]
}